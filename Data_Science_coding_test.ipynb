{
  "metadata": {
    "kernelspec": {
      "display_name": "Python 2",
      "name": "python2",
      "language": "python"
    },
    "language_info": {
      "mimetype": "text/x-python",
      "nbconvert_exporter": "python",
      "version": "2.7.18",
      "name": "python",
      "pygments_lexer": "ipython2",
      "file_extension": ".py",
      "codemirror_mode": {
        "version": 2,
        "name": "ipython"
      }
    },
    "creator": "mvichery",
    "createdOn": 1638200145003,
    "hide_input": false,
    "modifiedBy": "arusseil",
    "customFields": {},
    "tags": [],
    "colab": {
      "name": "Data Science coding test.ipynb",
      "provenance": []
    }
  },
  "nbformat": 4,
  "nbformat_minor": 0,
  "cells": [
    {
      "cell_type": "markdown",
      "metadata": {
        "id": "waIf7bGOZ8Q8"
      },
      "source": [
        "## TEST RAPIDE COMPETENCES PYTHON"
      ]
    },
    {
      "cell_type": "code",
      "source": [
        "import dataiku\n",
        "from dataiku import pandasutils as pdu\n",
        "import pandas as pd"
      ],
      "metadata": {
        "id": "IGXJZHCHhORM"
      },
      "execution_count": null,
      "outputs": []
    },
    {
      "execution_count": null,
      "cell_type": "code",
      "metadata": {
        "colab": {
          "base_uri": "https://localhost:8080/"
        },
        "id": "Ye49w0prZ8RG",
        "outputId": "f72ec75a-38db-495b-a374-8795f1a9706f"
      },
      "source": [
        "%pylab inline"
      ],
      "outputs": [
        {
          "output_type": "stream",
          "name": "stdout",
          "text": [
            "Populating the interactive namespace from numpy and matplotlib\n"
          ]
        }
      ]
    },
    {
      "cell_type": "markdown",
      "metadata": {
        "id": "IUuNKdKzZ8RJ"
      },
      "source": [
        "### DEFINITION DE 2 DATAFRAMES : "
      ]
    },
    {
      "execution_count": null,
      "cell_type": "code",
      "metadata": {
        "colab": {
          "base_uri": "https://localhost:8080/",
          "height": 175
        },
        "id": "-OwBNOgiZ8RL",
        "outputId": "8e321a59-960c-4a79-bb87-15f93699ae0a"
      },
      "source": [
        "df1 = pd.DataFrame({'Id_eleve':['id1','id2','id3','id4'],'Classe':['6A','6A','6B','6B'],'Note_mathematiques': [14,12,7,18]})\n",
        "df1"
      ],
      "outputs": [
        {
          "output_type": "execute_result",
          "data": {
            "text/plain": [
              "  Id_eleve Classe  Note_mathematiques\n",
              "0      id1     6A                  14\n",
              "1      id2     6A                  12\n",
              "2      id3     6B                   7\n",
              "3      id4     6B                  18"
            ],
            "text/html": [
              "\n",
              "  <div id=\"df-591ea6c1-77e1-4a53-a01b-78eb5bfad26a\">\n",
              "    <div class=\"colab-df-container\">\n",
              "      <div>\n",
              "<style scoped>\n",
              "    .dataframe tbody tr th:only-of-type {\n",
              "        vertical-align: middle;\n",
              "    }\n",
              "\n",
              "    .dataframe tbody tr th {\n",
              "        vertical-align: top;\n",
              "    }\n",
              "\n",
              "    .dataframe thead th {\n",
              "        text-align: right;\n",
              "    }\n",
              "</style>\n",
              "<table border=\"1\" class=\"dataframe\">\n",
              "  <thead>\n",
              "    <tr style=\"text-align: right;\">\n",
              "      <th></th>\n",
              "      <th>Id_eleve</th>\n",
              "      <th>Classe</th>\n",
              "      <th>Note_mathematiques</th>\n",
              "    </tr>\n",
              "  </thead>\n",
              "  <tbody>\n",
              "    <tr>\n",
              "      <th>0</th>\n",
              "      <td>id1</td>\n",
              "      <td>6A</td>\n",
              "      <td>14</td>\n",
              "    </tr>\n",
              "    <tr>\n",
              "      <th>1</th>\n",
              "      <td>id2</td>\n",
              "      <td>6A</td>\n",
              "      <td>12</td>\n",
              "    </tr>\n",
              "    <tr>\n",
              "      <th>2</th>\n",
              "      <td>id3</td>\n",
              "      <td>6B</td>\n",
              "      <td>7</td>\n",
              "    </tr>\n",
              "    <tr>\n",
              "      <th>3</th>\n",
              "      <td>id4</td>\n",
              "      <td>6B</td>\n",
              "      <td>18</td>\n",
              "    </tr>\n",
              "  </tbody>\n",
              "</table>\n",
              "</div>\n",
              "      <button class=\"colab-df-convert\" onclick=\"convertToInteractive('df-591ea6c1-77e1-4a53-a01b-78eb5bfad26a')\"\n",
              "              title=\"Convert this dataframe to an interactive table.\"\n",
              "              style=\"display:none;\">\n",
              "        \n",
              "  <svg xmlns=\"http://www.w3.org/2000/svg\" height=\"24px\"viewBox=\"0 0 24 24\"\n",
              "       width=\"24px\">\n",
              "    <path d=\"M0 0h24v24H0V0z\" fill=\"none\"/>\n",
              "    <path d=\"M18.56 5.44l.94 2.06.94-2.06 2.06-.94-2.06-.94-.94-2.06-.94 2.06-2.06.94zm-11 1L8.5 8.5l.94-2.06 2.06-.94-2.06-.94L8.5 2.5l-.94 2.06-2.06.94zm10 10l.94 2.06.94-2.06 2.06-.94-2.06-.94-.94-2.06-.94 2.06-2.06.94z\"/><path d=\"M17.41 7.96l-1.37-1.37c-.4-.4-.92-.59-1.43-.59-.52 0-1.04.2-1.43.59L10.3 9.45l-7.72 7.72c-.78.78-.78 2.05 0 2.83L4 21.41c.39.39.9.59 1.41.59.51 0 1.02-.2 1.41-.59l7.78-7.78 2.81-2.81c.8-.78.8-2.07 0-2.86zM5.41 20L4 18.59l7.72-7.72 1.47 1.35L5.41 20z\"/>\n",
              "  </svg>\n",
              "      </button>\n",
              "      \n",
              "  <style>\n",
              "    .colab-df-container {\n",
              "      display:flex;\n",
              "      flex-wrap:wrap;\n",
              "      gap: 12px;\n",
              "    }\n",
              "\n",
              "    .colab-df-convert {\n",
              "      background-color: #E8F0FE;\n",
              "      border: none;\n",
              "      border-radius: 50%;\n",
              "      cursor: pointer;\n",
              "      display: none;\n",
              "      fill: #1967D2;\n",
              "      height: 32px;\n",
              "      padding: 0 0 0 0;\n",
              "      width: 32px;\n",
              "    }\n",
              "\n",
              "    .colab-df-convert:hover {\n",
              "      background-color: #E2EBFA;\n",
              "      box-shadow: 0px 1px 2px rgba(60, 64, 67, 0.3), 0px 1px 3px 1px rgba(60, 64, 67, 0.15);\n",
              "      fill: #174EA6;\n",
              "    }\n",
              "\n",
              "    [theme=dark] .colab-df-convert {\n",
              "      background-color: #3B4455;\n",
              "      fill: #D2E3FC;\n",
              "    }\n",
              "\n",
              "    [theme=dark] .colab-df-convert:hover {\n",
              "      background-color: #434B5C;\n",
              "      box-shadow: 0px 1px 3px 1px rgba(0, 0, 0, 0.15);\n",
              "      filter: drop-shadow(0px 1px 2px rgba(0, 0, 0, 0.3));\n",
              "      fill: #FFFFFF;\n",
              "    }\n",
              "  </style>\n",
              "\n",
              "      <script>\n",
              "        const buttonEl =\n",
              "          document.querySelector('#df-591ea6c1-77e1-4a53-a01b-78eb5bfad26a button.colab-df-convert');\n",
              "        buttonEl.style.display =\n",
              "          google.colab.kernel.accessAllowed ? 'block' : 'none';\n",
              "\n",
              "        async function convertToInteractive(key) {\n",
              "          const element = document.querySelector('#df-591ea6c1-77e1-4a53-a01b-78eb5bfad26a');\n",
              "          const dataTable =\n",
              "            await google.colab.kernel.invokeFunction('convertToInteractive',\n",
              "                                                     [key], {});\n",
              "          if (!dataTable) return;\n",
              "\n",
              "          const docLinkHtml = 'Like what you see? Visit the ' +\n",
              "            '<a target=\"_blank\" href=https://colab.research.google.com/notebooks/data_table.ipynb>data table notebook</a>'\n",
              "            + ' to learn more about interactive tables.';\n",
              "          element.innerHTML = '';\n",
              "          dataTable['output_type'] = 'display_data';\n",
              "          await google.colab.output.renderOutput(dataTable, element);\n",
              "          const docLink = document.createElement('div');\n",
              "          docLink.innerHTML = docLinkHtml;\n",
              "          element.appendChild(docLink);\n",
              "        }\n",
              "      </script>\n",
              "    </div>\n",
              "  </div>\n",
              "  "
            ]
          },
          "metadata": {},
          "execution_count": 4
        }
      ]
    },
    {
      "execution_count": null,
      "cell_type": "code",
      "metadata": {
        "colab": {
          "base_uri": "https://localhost:8080/",
          "height": 206
        },
        "id": "6UUizyRrZ8RM",
        "outputId": "6c4c15ff-2af8-4cd5-baa1-286b4688a49e"
      },
      "source": [
        "df2 = pd.DataFrame({'Id_eleve':['id4','id3','id2','id1','id5'],'Classe':['6B','6B','6A','6A','6B'],'Note_francais': [11,12,8,16,9]})\n",
        "df2"
      ],
      "outputs": [
        {
          "output_type": "execute_result",
          "data": {
            "text/plain": [
              "  Id_eleve Classe  Note_francais\n",
              "0      id4     6B             11\n",
              "1      id3     6B             12\n",
              "2      id2     6A              8\n",
              "3      id1     6A             16\n",
              "4      id5     6B              9"
            ],
            "text/html": [
              "\n",
              "  <div id=\"df-c53355e2-74f3-4e16-9ef8-6c83681de1ec\">\n",
              "    <div class=\"colab-df-container\">\n",
              "      <div>\n",
              "<style scoped>\n",
              "    .dataframe tbody tr th:only-of-type {\n",
              "        vertical-align: middle;\n",
              "    }\n",
              "\n",
              "    .dataframe tbody tr th {\n",
              "        vertical-align: top;\n",
              "    }\n",
              "\n",
              "    .dataframe thead th {\n",
              "        text-align: right;\n",
              "    }\n",
              "</style>\n",
              "<table border=\"1\" class=\"dataframe\">\n",
              "  <thead>\n",
              "    <tr style=\"text-align: right;\">\n",
              "      <th></th>\n",
              "      <th>Id_eleve</th>\n",
              "      <th>Classe</th>\n",
              "      <th>Note_francais</th>\n",
              "    </tr>\n",
              "  </thead>\n",
              "  <tbody>\n",
              "    <tr>\n",
              "      <th>0</th>\n",
              "      <td>id4</td>\n",
              "      <td>6B</td>\n",
              "      <td>11</td>\n",
              "    </tr>\n",
              "    <tr>\n",
              "      <th>1</th>\n",
              "      <td>id3</td>\n",
              "      <td>6B</td>\n",
              "      <td>12</td>\n",
              "    </tr>\n",
              "    <tr>\n",
              "      <th>2</th>\n",
              "      <td>id2</td>\n",
              "      <td>6A</td>\n",
              "      <td>8</td>\n",
              "    </tr>\n",
              "    <tr>\n",
              "      <th>3</th>\n",
              "      <td>id1</td>\n",
              "      <td>6A</td>\n",
              "      <td>16</td>\n",
              "    </tr>\n",
              "    <tr>\n",
              "      <th>4</th>\n",
              "      <td>id5</td>\n",
              "      <td>6B</td>\n",
              "      <td>9</td>\n",
              "    </tr>\n",
              "  </tbody>\n",
              "</table>\n",
              "</div>\n",
              "      <button class=\"colab-df-convert\" onclick=\"convertToInteractive('df-c53355e2-74f3-4e16-9ef8-6c83681de1ec')\"\n",
              "              title=\"Convert this dataframe to an interactive table.\"\n",
              "              style=\"display:none;\">\n",
              "        \n",
              "  <svg xmlns=\"http://www.w3.org/2000/svg\" height=\"24px\"viewBox=\"0 0 24 24\"\n",
              "       width=\"24px\">\n",
              "    <path d=\"M0 0h24v24H0V0z\" fill=\"none\"/>\n",
              "    <path d=\"M18.56 5.44l.94 2.06.94-2.06 2.06-.94-2.06-.94-.94-2.06-.94 2.06-2.06.94zm-11 1L8.5 8.5l.94-2.06 2.06-.94-2.06-.94L8.5 2.5l-.94 2.06-2.06.94zm10 10l.94 2.06.94-2.06 2.06-.94-2.06-.94-.94-2.06-.94 2.06-2.06.94z\"/><path d=\"M17.41 7.96l-1.37-1.37c-.4-.4-.92-.59-1.43-.59-.52 0-1.04.2-1.43.59L10.3 9.45l-7.72 7.72c-.78.78-.78 2.05 0 2.83L4 21.41c.39.39.9.59 1.41.59.51 0 1.02-.2 1.41-.59l7.78-7.78 2.81-2.81c.8-.78.8-2.07 0-2.86zM5.41 20L4 18.59l7.72-7.72 1.47 1.35L5.41 20z\"/>\n",
              "  </svg>\n",
              "      </button>\n",
              "      \n",
              "  <style>\n",
              "    .colab-df-container {\n",
              "      display:flex;\n",
              "      flex-wrap:wrap;\n",
              "      gap: 12px;\n",
              "    }\n",
              "\n",
              "    .colab-df-convert {\n",
              "      background-color: #E8F0FE;\n",
              "      border: none;\n",
              "      border-radius: 50%;\n",
              "      cursor: pointer;\n",
              "      display: none;\n",
              "      fill: #1967D2;\n",
              "      height: 32px;\n",
              "      padding: 0 0 0 0;\n",
              "      width: 32px;\n",
              "    }\n",
              "\n",
              "    .colab-df-convert:hover {\n",
              "      background-color: #E2EBFA;\n",
              "      box-shadow: 0px 1px 2px rgba(60, 64, 67, 0.3), 0px 1px 3px 1px rgba(60, 64, 67, 0.15);\n",
              "      fill: #174EA6;\n",
              "    }\n",
              "\n",
              "    [theme=dark] .colab-df-convert {\n",
              "      background-color: #3B4455;\n",
              "      fill: #D2E3FC;\n",
              "    }\n",
              "\n",
              "    [theme=dark] .colab-df-convert:hover {\n",
              "      background-color: #434B5C;\n",
              "      box-shadow: 0px 1px 3px 1px rgba(0, 0, 0, 0.15);\n",
              "      filter: drop-shadow(0px 1px 2px rgba(0, 0, 0, 0.3));\n",
              "      fill: #FFFFFF;\n",
              "    }\n",
              "  </style>\n",
              "\n",
              "      <script>\n",
              "        const buttonEl =\n",
              "          document.querySelector('#df-c53355e2-74f3-4e16-9ef8-6c83681de1ec button.colab-df-convert');\n",
              "        buttonEl.style.display =\n",
              "          google.colab.kernel.accessAllowed ? 'block' : 'none';\n",
              "\n",
              "        async function convertToInteractive(key) {\n",
              "          const element = document.querySelector('#df-c53355e2-74f3-4e16-9ef8-6c83681de1ec');\n",
              "          const dataTable =\n",
              "            await google.colab.kernel.invokeFunction('convertToInteractive',\n",
              "                                                     [key], {});\n",
              "          if (!dataTable) return;\n",
              "\n",
              "          const docLinkHtml = 'Like what you see? Visit the ' +\n",
              "            '<a target=\"_blank\" href=https://colab.research.google.com/notebooks/data_table.ipynb>data table notebook</a>'\n",
              "            + ' to learn more about interactive tables.';\n",
              "          element.innerHTML = '';\n",
              "          dataTable['output_type'] = 'display_data';\n",
              "          await google.colab.output.renderOutput(dataTable, element);\n",
              "          const docLink = document.createElement('div');\n",
              "          docLink.innerHTML = docLinkHtml;\n",
              "          element.appendChild(docLink);\n",
              "        }\n",
              "      </script>\n",
              "    </div>\n",
              "  </div>\n",
              "  "
            ]
          },
          "metadata": {},
          "execution_count": 5
        }
      ]
    },
    {
      "cell_type": "markdown",
      "metadata": {
        "id": "8z5a8dB5Z8RN"
      },
      "source": [
        "### QUESTIONS MANIPULATION DE DATAFRAMES :"
      ]
    },
    {
      "cell_type": "markdown",
      "metadata": {
        "id": "QZxl_uYkZ8RP"
      },
      "source": [
        "#### Question 1 : Afficher les 2 premières lignes de df1 comme ci-dessous "
      ]
    },
    {
      "execution_count": null,
      "cell_type": "code",
      "metadata": {
        "colab": {
          "base_uri": "https://localhost:8080/",
          "height": 112
        },
        "id": "Y3-QdbTSZ8Rq",
        "outputId": "6b893daa-8957-41b8-e05a-aaab3e17702e"
      },
      "source": [
        "#Pour afficher les 2 premières lignes, nous pouvons utiliser la function 'head' et definir combien de lignes nous voulons afficher.\n",
        "df1.head(2)"
      ],
      "outputs": [
        {
          "output_type": "execute_result",
          "data": {
            "text/plain": [
              "  Id_eleve Classe  Note_mathematiques\n",
              "0      id1     6A                  14\n",
              "1      id2     6A                  12"
            ],
            "text/html": [
              "\n",
              "  <div id=\"df-ffd205f1-7fb0-4436-9f46-e5696d21d8a4\">\n",
              "    <div class=\"colab-df-container\">\n",
              "      <div>\n",
              "<style scoped>\n",
              "    .dataframe tbody tr th:only-of-type {\n",
              "        vertical-align: middle;\n",
              "    }\n",
              "\n",
              "    .dataframe tbody tr th {\n",
              "        vertical-align: top;\n",
              "    }\n",
              "\n",
              "    .dataframe thead th {\n",
              "        text-align: right;\n",
              "    }\n",
              "</style>\n",
              "<table border=\"1\" class=\"dataframe\">\n",
              "  <thead>\n",
              "    <tr style=\"text-align: right;\">\n",
              "      <th></th>\n",
              "      <th>Id_eleve</th>\n",
              "      <th>Classe</th>\n",
              "      <th>Note_mathematiques</th>\n",
              "    </tr>\n",
              "  </thead>\n",
              "  <tbody>\n",
              "    <tr>\n",
              "      <th>0</th>\n",
              "      <td>id1</td>\n",
              "      <td>6A</td>\n",
              "      <td>14</td>\n",
              "    </tr>\n",
              "    <tr>\n",
              "      <th>1</th>\n",
              "      <td>id2</td>\n",
              "      <td>6A</td>\n",
              "      <td>12</td>\n",
              "    </tr>\n",
              "  </tbody>\n",
              "</table>\n",
              "</div>\n",
              "      <button class=\"colab-df-convert\" onclick=\"convertToInteractive('df-ffd205f1-7fb0-4436-9f46-e5696d21d8a4')\"\n",
              "              title=\"Convert this dataframe to an interactive table.\"\n",
              "              style=\"display:none;\">\n",
              "        \n",
              "  <svg xmlns=\"http://www.w3.org/2000/svg\" height=\"24px\"viewBox=\"0 0 24 24\"\n",
              "       width=\"24px\">\n",
              "    <path d=\"M0 0h24v24H0V0z\" fill=\"none\"/>\n",
              "    <path d=\"M18.56 5.44l.94 2.06.94-2.06 2.06-.94-2.06-.94-.94-2.06-.94 2.06-2.06.94zm-11 1L8.5 8.5l.94-2.06 2.06-.94-2.06-.94L8.5 2.5l-.94 2.06-2.06.94zm10 10l.94 2.06.94-2.06 2.06-.94-2.06-.94-.94-2.06-.94 2.06-2.06.94z\"/><path d=\"M17.41 7.96l-1.37-1.37c-.4-.4-.92-.59-1.43-.59-.52 0-1.04.2-1.43.59L10.3 9.45l-7.72 7.72c-.78.78-.78 2.05 0 2.83L4 21.41c.39.39.9.59 1.41.59.51 0 1.02-.2 1.41-.59l7.78-7.78 2.81-2.81c.8-.78.8-2.07 0-2.86zM5.41 20L4 18.59l7.72-7.72 1.47 1.35L5.41 20z\"/>\n",
              "  </svg>\n",
              "      </button>\n",
              "      \n",
              "  <style>\n",
              "    .colab-df-container {\n",
              "      display:flex;\n",
              "      flex-wrap:wrap;\n",
              "      gap: 12px;\n",
              "    }\n",
              "\n",
              "    .colab-df-convert {\n",
              "      background-color: #E8F0FE;\n",
              "      border: none;\n",
              "      border-radius: 50%;\n",
              "      cursor: pointer;\n",
              "      display: none;\n",
              "      fill: #1967D2;\n",
              "      height: 32px;\n",
              "      padding: 0 0 0 0;\n",
              "      width: 32px;\n",
              "    }\n",
              "\n",
              "    .colab-df-convert:hover {\n",
              "      background-color: #E2EBFA;\n",
              "      box-shadow: 0px 1px 2px rgba(60, 64, 67, 0.3), 0px 1px 3px 1px rgba(60, 64, 67, 0.15);\n",
              "      fill: #174EA6;\n",
              "    }\n",
              "\n",
              "    [theme=dark] .colab-df-convert {\n",
              "      background-color: #3B4455;\n",
              "      fill: #D2E3FC;\n",
              "    }\n",
              "\n",
              "    [theme=dark] .colab-df-convert:hover {\n",
              "      background-color: #434B5C;\n",
              "      box-shadow: 0px 1px 3px 1px rgba(0, 0, 0, 0.15);\n",
              "      filter: drop-shadow(0px 1px 2px rgba(0, 0, 0, 0.3));\n",
              "      fill: #FFFFFF;\n",
              "    }\n",
              "  </style>\n",
              "\n",
              "      <script>\n",
              "        const buttonEl =\n",
              "          document.querySelector('#df-ffd205f1-7fb0-4436-9f46-e5696d21d8a4 button.colab-df-convert');\n",
              "        buttonEl.style.display =\n",
              "          google.colab.kernel.accessAllowed ? 'block' : 'none';\n",
              "\n",
              "        async function convertToInteractive(key) {\n",
              "          const element = document.querySelector('#df-ffd205f1-7fb0-4436-9f46-e5696d21d8a4');\n",
              "          const dataTable =\n",
              "            await google.colab.kernel.invokeFunction('convertToInteractive',\n",
              "                                                     [key], {});\n",
              "          if (!dataTable) return;\n",
              "\n",
              "          const docLinkHtml = 'Like what you see? Visit the ' +\n",
              "            '<a target=\"_blank\" href=https://colab.research.google.com/notebooks/data_table.ipynb>data table notebook</a>'\n",
              "            + ' to learn more about interactive tables.';\n",
              "          element.innerHTML = '';\n",
              "          dataTable['output_type'] = 'display_data';\n",
              "          await google.colab.output.renderOutput(dataTable, element);\n",
              "          const docLink = document.createElement('div');\n",
              "          docLink.innerHTML = docLinkHtml;\n",
              "          element.appendChild(docLink);\n",
              "        }\n",
              "      </script>\n",
              "    </div>\n",
              "  </div>\n",
              "  "
            ]
          },
          "metadata": {},
          "execution_count": 6
        }
      ]
    },
    {
      "execution_count": null,
      "cell_type": "code",
      "metadata": {
        "scrolled": true,
        "code_folding": [],
        "id": "mcnqFbBOZ8Rs",
        "outputId": "bd041994-95a0-46a4-af56-a32032287b80"
      },
      "source": [
        "###"
      ],
      "outputs": [
        {
          "output_type": "execute_result",
          "metadata": {},
          "data": {
            "text/html": "\n            <button style=\"display:none\" \n            class=\"btn btn-default ipython-export-btn\" \n            id=\"btn-df-aaabe938-442c-43c9-b9eb-ad36aba3edb2\" \n            onclick=\"_export_df('aaabe938-442c-43c9-b9eb-ad36aba3edb2')\">\n                Export dataframe\n            </button>\n            \n            <script>\n                \n                function _check_export_df_possible(dfid,yes_fn,no_fn) {\n                    console.log('Checking dataframe exportability...')\n                    if(!IPython || !IPython.notebook || !IPython.notebook.kernel || !IPython.notebook.kernel) {\n                        console.log('Export is not possible (IPython kernel is not available)')\n                        if(no_fn) {\n                            no_fn();\n                        }\n                    } else {\n                        var pythonCode = 'from dataiku.notebook.export import IPythonExporter;IPythonExporter._check_export_stdout(\"'+dfid+'\")';\n                        IPython.notebook.kernel.execute(pythonCode,{iopub: {output: function(resp) {\n                            console.info(\"Exportability response\", resp);\n                            var size = /^([0-9]+)x([0-9]+)$/.exec(resp.content.data || resp.content.text)\n                            if(!size) {\n                                console.log('Export is not possible (dataframe is not in-memory anymore)')\n                                if(no_fn) {\n                                    no_fn();\n                                }\n                            } else {\n                                console.log('Export is possible')\n                                if(yes_fn) {\n                                    yes_fn(1*size[1],1*size[2]);\n                                }\n                            }\n                        }}});\n                    }\n                }\n            \n                function _export_df(dfid) {\n                    \n                    var btn = $('#btn-df-'+dfid);\n                    var btns = $('.ipython-export-btn');\n                    \n                    _check_export_df_possible(dfid,function() {\n                        \n                        window.parent.openExportModalFromIPython('Pandas dataframe',function(data) {\n                            btns.prop('disabled',true);\n                            btn.text('Exporting...');\n                            var command = 'from dataiku.notebook.export import IPythonExporter;IPythonExporter._run_export(\"'+dfid+'\",\"'+data.exportId+'\")';\n                            var callback = {iopub:{output: function(resp) {\n                                console.info(\"CB resp:\", resp);\n                                _check_export_df_possible(dfid,function(rows, cols) {\n                                    $('#btn-df-'+dfid)\n                                        .css('display','inline-block')\n                                        .text('Export this dataframe ('+rows+' rows, '+cols+' cols)')\n                                        .prop('disabled',false);\n                                },function() {\n                                    $('#btn-df-'+dfid).css('display','none');\n                                });\n                            }}};\n                            IPython.notebook.kernel.execute(command,callback,{silent:false}); // yes, silent now defaults to true. figures.\n                        });\n                    \n                    }, function(){\n                            alert('Unable to export : the Dataframe object is not loaded in memory');\n                            btn.css('display','none');\n                    });\n                    \n                }\n                \n                (function(dfid) {\n                \n                    var retryCount = 10;\n                \n                    function is_valid_websock(s) {\n                        return s && s.readyState==1;\n                    }\n                \n                    function check_conn() {\n                        \n                        if(!IPython || !IPython.notebook) {\n                            // Don't even try to go further\n                            return;\n                        }\n                        \n                        // Check if IPython is ready\n                        console.info(\"Checking conn ...\")\n                        if(IPython.notebook.kernel\n                        && IPython.notebook.kernel\n                        && is_valid_websock(IPython.notebook.kernel.ws)\n                        ) {\n                            \n                            _check_export_df_possible(dfid,function(rows, cols) {\n                                $('#btn-df-'+dfid).css('display','inline-block');\n                                $('#btn-df-'+dfid).text('Export this dataframe ('+rows+' rows, '+cols+' cols)');\n                            });\n                            \n                        } else {\n                            console.info(\"Conditions are not ok\", IPython.notebook.kernel);\n                            \n                            // Retry later\n                            \n                            if(retryCount>0) {\n                                setTimeout(check_conn,500);\n                                retryCount--;\n                            }\n                            \n                        }\n                    };\n                    \n                    setTimeout(check_conn,100);\n                    \n                })(\"aaabe938-442c-43c9-b9eb-ad36aba3edb2\");\n                \n            </script>\n            \n        <div>\n<style scoped>\n    .dataframe tbody tr th:only-of-type {\n        vertical-align: middle;\n    }\n\n    .dataframe tbody tr th {\n        vertical-align: top;\n    }\n\n    .dataframe thead th {\n        text-align: right;\n    }\n</style>\n<table border=\"1\" class=\"dataframe\">\n  <thead>\n    <tr style=\"text-align: right;\">\n      <th></th>\n      <th>Classe</th>\n      <th>Id_eleve</th>\n      <th>Note_mathematiques</th>\n    </tr>\n  </thead>\n  <tbody>\n    <tr>\n      <th>0</th>\n      <td>6A</td>\n      <td>id1</td>\n      <td>14</td>\n    </tr>\n    <tr>\n      <th>1</th>\n      <td>6A</td>\n      <td>id2</td>\n      <td>12</td>\n    </tr>\n  </tbody>\n</table>\n</div>",
            "text/plain": "  Classe Id_eleve  Note_mathematiques\n0     6A      id1                  14\n1     6A      id2                  12"
          },
          "execution_count": 6
        }
      ]
    },
    {
      "cell_type": "markdown",
      "metadata": {
        "id": "vhm5oI8VZ8Rt"
      },
      "source": [
        "#### Question 2 : Créer df comme ci-dessous "
      ]
    },
    {
      "execution_count": null,
      "cell_type": "code",
      "metadata": {
        "scrolled": true,
        "colab": {
          "base_uri": "https://localhost:8080/",
          "height": 175
        },
        "id": "-DLVWOh8Z8Rv",
        "outputId": "df590fee-3241-400b-9fe9-be1de080edcb"
      },
      "source": [
        "#Pour créer le dataframe dessous, nous devons joindre les deux dataframes differents avec la function 'merge' de pandas.\n",
        "#J'ai renomé ce nouveau dataframe 'df'.\n",
        "df = pd.merge(df1, df2)\n",
        "df"
      ],
      "outputs": [
        {
          "output_type": "execute_result",
          "data": {
            "text/plain": [
              "  Id_eleve Classe  Note_mathematiques  Note_francais\n",
              "0      id1     6A                  14             16\n",
              "1      id2     6A                  12              8\n",
              "2      id3     6B                   7             12\n",
              "3      id4     6B                  18             11"
            ],
            "text/html": [
              "\n",
              "  <div id=\"df-76b70418-dc92-40f9-ab7b-4473bfd5205e\">\n",
              "    <div class=\"colab-df-container\">\n",
              "      <div>\n",
              "<style scoped>\n",
              "    .dataframe tbody tr th:only-of-type {\n",
              "        vertical-align: middle;\n",
              "    }\n",
              "\n",
              "    .dataframe tbody tr th {\n",
              "        vertical-align: top;\n",
              "    }\n",
              "\n",
              "    .dataframe thead th {\n",
              "        text-align: right;\n",
              "    }\n",
              "</style>\n",
              "<table border=\"1\" class=\"dataframe\">\n",
              "  <thead>\n",
              "    <tr style=\"text-align: right;\">\n",
              "      <th></th>\n",
              "      <th>Id_eleve</th>\n",
              "      <th>Classe</th>\n",
              "      <th>Note_mathematiques</th>\n",
              "      <th>Note_francais</th>\n",
              "    </tr>\n",
              "  </thead>\n",
              "  <tbody>\n",
              "    <tr>\n",
              "      <th>0</th>\n",
              "      <td>id1</td>\n",
              "      <td>6A</td>\n",
              "      <td>14</td>\n",
              "      <td>16</td>\n",
              "    </tr>\n",
              "    <tr>\n",
              "      <th>1</th>\n",
              "      <td>id2</td>\n",
              "      <td>6A</td>\n",
              "      <td>12</td>\n",
              "      <td>8</td>\n",
              "    </tr>\n",
              "    <tr>\n",
              "      <th>2</th>\n",
              "      <td>id3</td>\n",
              "      <td>6B</td>\n",
              "      <td>7</td>\n",
              "      <td>12</td>\n",
              "    </tr>\n",
              "    <tr>\n",
              "      <th>3</th>\n",
              "      <td>id4</td>\n",
              "      <td>6B</td>\n",
              "      <td>18</td>\n",
              "      <td>11</td>\n",
              "    </tr>\n",
              "  </tbody>\n",
              "</table>\n",
              "</div>\n",
              "      <button class=\"colab-df-convert\" onclick=\"convertToInteractive('df-76b70418-dc92-40f9-ab7b-4473bfd5205e')\"\n",
              "              title=\"Convert this dataframe to an interactive table.\"\n",
              "              style=\"display:none;\">\n",
              "        \n",
              "  <svg xmlns=\"http://www.w3.org/2000/svg\" height=\"24px\"viewBox=\"0 0 24 24\"\n",
              "       width=\"24px\">\n",
              "    <path d=\"M0 0h24v24H0V0z\" fill=\"none\"/>\n",
              "    <path d=\"M18.56 5.44l.94 2.06.94-2.06 2.06-.94-2.06-.94-.94-2.06-.94 2.06-2.06.94zm-11 1L8.5 8.5l.94-2.06 2.06-.94-2.06-.94L8.5 2.5l-.94 2.06-2.06.94zm10 10l.94 2.06.94-2.06 2.06-.94-2.06-.94-.94-2.06-.94 2.06-2.06.94z\"/><path d=\"M17.41 7.96l-1.37-1.37c-.4-.4-.92-.59-1.43-.59-.52 0-1.04.2-1.43.59L10.3 9.45l-7.72 7.72c-.78.78-.78 2.05 0 2.83L4 21.41c.39.39.9.59 1.41.59.51 0 1.02-.2 1.41-.59l7.78-7.78 2.81-2.81c.8-.78.8-2.07 0-2.86zM5.41 20L4 18.59l7.72-7.72 1.47 1.35L5.41 20z\"/>\n",
              "  </svg>\n",
              "      </button>\n",
              "      \n",
              "  <style>\n",
              "    .colab-df-container {\n",
              "      display:flex;\n",
              "      flex-wrap:wrap;\n",
              "      gap: 12px;\n",
              "    }\n",
              "\n",
              "    .colab-df-convert {\n",
              "      background-color: #E8F0FE;\n",
              "      border: none;\n",
              "      border-radius: 50%;\n",
              "      cursor: pointer;\n",
              "      display: none;\n",
              "      fill: #1967D2;\n",
              "      height: 32px;\n",
              "      padding: 0 0 0 0;\n",
              "      width: 32px;\n",
              "    }\n",
              "\n",
              "    .colab-df-convert:hover {\n",
              "      background-color: #E2EBFA;\n",
              "      box-shadow: 0px 1px 2px rgba(60, 64, 67, 0.3), 0px 1px 3px 1px rgba(60, 64, 67, 0.15);\n",
              "      fill: #174EA6;\n",
              "    }\n",
              "\n",
              "    [theme=dark] .colab-df-convert {\n",
              "      background-color: #3B4455;\n",
              "      fill: #D2E3FC;\n",
              "    }\n",
              "\n",
              "    [theme=dark] .colab-df-convert:hover {\n",
              "      background-color: #434B5C;\n",
              "      box-shadow: 0px 1px 3px 1px rgba(0, 0, 0, 0.15);\n",
              "      filter: drop-shadow(0px 1px 2px rgba(0, 0, 0, 0.3));\n",
              "      fill: #FFFFFF;\n",
              "    }\n",
              "  </style>\n",
              "\n",
              "      <script>\n",
              "        const buttonEl =\n",
              "          document.querySelector('#df-76b70418-dc92-40f9-ab7b-4473bfd5205e button.colab-df-convert');\n",
              "        buttonEl.style.display =\n",
              "          google.colab.kernel.accessAllowed ? 'block' : 'none';\n",
              "\n",
              "        async function convertToInteractive(key) {\n",
              "          const element = document.querySelector('#df-76b70418-dc92-40f9-ab7b-4473bfd5205e');\n",
              "          const dataTable =\n",
              "            await google.colab.kernel.invokeFunction('convertToInteractive',\n",
              "                                                     [key], {});\n",
              "          if (!dataTable) return;\n",
              "\n",
              "          const docLinkHtml = 'Like what you see? Visit the ' +\n",
              "            '<a target=\"_blank\" href=https://colab.research.google.com/notebooks/data_table.ipynb>data table notebook</a>'\n",
              "            + ' to learn more about interactive tables.';\n",
              "          element.innerHTML = '';\n",
              "          dataTable['output_type'] = 'display_data';\n",
              "          await google.colab.output.renderOutput(dataTable, element);\n",
              "          const docLink = document.createElement('div');\n",
              "          docLink.innerHTML = docLinkHtml;\n",
              "          element.appendChild(docLink);\n",
              "        }\n",
              "      </script>\n",
              "    </div>\n",
              "  </div>\n",
              "  "
            ]
          },
          "metadata": {},
          "execution_count": 7
        }
      ]
    },
    {
      "execution_count": null,
      "cell_type": "code",
      "metadata": {
        "id": "mxhgo5rrZ8Rw",
        "outputId": "27b90a58-8d44-421e-a029-fde73476049d"
      },
      "source": [
        "###"
      ],
      "outputs": [
        {
          "output_type": "execute_result",
          "metadata": {},
          "data": {
            "text/html": "\n            <button style=\"display:none\" \n            class=\"btn btn-default ipython-export-btn\" \n            id=\"btn-df-fca27d2c-022d-4274-989d-636325f2e0e3\" \n            onclick=\"_export_df('fca27d2c-022d-4274-989d-636325f2e0e3')\">\n                Export dataframe\n            </button>\n            \n            <script>\n                \n                function _check_export_df_possible(dfid,yes_fn,no_fn) {\n                    console.log('Checking dataframe exportability...')\n                    if(!IPython || !IPython.notebook || !IPython.notebook.kernel || !IPython.notebook.kernel) {\n                        console.log('Export is not possible (IPython kernel is not available)')\n                        if(no_fn) {\n                            no_fn();\n                        }\n                    } else {\n                        var pythonCode = 'from dataiku.notebook.export import IPythonExporter;IPythonExporter._check_export_stdout(\"'+dfid+'\")';\n                        IPython.notebook.kernel.execute(pythonCode,{iopub: {output: function(resp) {\n                            console.info(\"Exportability response\", resp);\n                            var size = /^([0-9]+)x([0-9]+)$/.exec(resp.content.data || resp.content.text)\n                            if(!size) {\n                                console.log('Export is not possible (dataframe is not in-memory anymore)')\n                                if(no_fn) {\n                                    no_fn();\n                                }\n                            } else {\n                                console.log('Export is possible')\n                                if(yes_fn) {\n                                    yes_fn(1*size[1],1*size[2]);\n                                }\n                            }\n                        }}});\n                    }\n                }\n            \n                function _export_df(dfid) {\n                    \n                    var btn = $('#btn-df-'+dfid);\n                    var btns = $('.ipython-export-btn');\n                    \n                    _check_export_df_possible(dfid,function() {\n                        \n                        window.parent.openExportModalFromIPython('Pandas dataframe',function(data) {\n                            btns.prop('disabled',true);\n                            btn.text('Exporting...');\n                            var command = 'from dataiku.notebook.export import IPythonExporter;IPythonExporter._run_export(\"'+dfid+'\",\"'+data.exportId+'\")';\n                            var callback = {iopub:{output: function(resp) {\n                                console.info(\"CB resp:\", resp);\n                                _check_export_df_possible(dfid,function(rows, cols) {\n                                    $('#btn-df-'+dfid)\n                                        .css('display','inline-block')\n                                        .text('Export this dataframe ('+rows+' rows, '+cols+' cols)')\n                                        .prop('disabled',false);\n                                },function() {\n                                    $('#btn-df-'+dfid).css('display','none');\n                                });\n                            }}};\n                            IPython.notebook.kernel.execute(command,callback,{silent:false}); // yes, silent now defaults to true. figures.\n                        });\n                    \n                    }, function(){\n                            alert('Unable to export : the Dataframe object is not loaded in memory');\n                            btn.css('display','none');\n                    });\n                    \n                }\n                \n                (function(dfid) {\n                \n                    var retryCount = 10;\n                \n                    function is_valid_websock(s) {\n                        return s && s.readyState==1;\n                    }\n                \n                    function check_conn() {\n                        \n                        if(!IPython || !IPython.notebook) {\n                            // Don't even try to go further\n                            return;\n                        }\n                        \n                        // Check if IPython is ready\n                        console.info(\"Checking conn ...\")\n                        if(IPython.notebook.kernel\n                        && IPython.notebook.kernel\n                        && is_valid_websock(IPython.notebook.kernel.ws)\n                        ) {\n                            \n                            _check_export_df_possible(dfid,function(rows, cols) {\n                                $('#btn-df-'+dfid).css('display','inline-block');\n                                $('#btn-df-'+dfid).text('Export this dataframe ('+rows+' rows, '+cols+' cols)');\n                            });\n                            \n                        } else {\n                            console.info(\"Conditions are not ok\", IPython.notebook.kernel);\n                            \n                            // Retry later\n                            \n                            if(retryCount>0) {\n                                setTimeout(check_conn,500);\n                                retryCount--;\n                            }\n                            \n                        }\n                    };\n                    \n                    setTimeout(check_conn,100);\n                    \n                })(\"fca27d2c-022d-4274-989d-636325f2e0e3\");\n                \n            </script>\n            \n        <div>\n<style scoped>\n    .dataframe tbody tr th:only-of-type {\n        vertical-align: middle;\n    }\n\n    .dataframe tbody tr th {\n        vertical-align: top;\n    }\n\n    .dataframe thead th {\n        text-align: right;\n    }\n</style>\n<table border=\"1\" class=\"dataframe\">\n  <thead>\n    <tr style=\"text-align: right;\">\n      <th></th>\n      <th>Classe</th>\n      <th>Id_eleve</th>\n      <th>Note_mathematiques</th>\n      <th>Note_francais</th>\n    </tr>\n  </thead>\n  <tbody>\n    <tr>\n      <th>0</th>\n      <td>6A</td>\n      <td>id1</td>\n      <td>14</td>\n      <td>16</td>\n    </tr>\n    <tr>\n      <th>1</th>\n      <td>6A</td>\n      <td>id2</td>\n      <td>12</td>\n      <td>8</td>\n    </tr>\n    <tr>\n      <th>2</th>\n      <td>6B</td>\n      <td>id3</td>\n      <td>7</td>\n      <td>12</td>\n    </tr>\n    <tr>\n      <th>3</th>\n      <td>6B</td>\n      <td>id4</td>\n      <td>18</td>\n      <td>11</td>\n    </tr>\n  </tbody>\n</table>\n</div>",
            "text/plain": "  Classe Id_eleve  Note_mathematiques  Note_francais\n0     6A      id1                  14             16\n1     6A      id2                  12              8\n2     6B      id3                   7             12\n3     6B      id4                  18             11"
          },
          "execution_count": 11
        }
      ]
    },
    {
      "cell_type": "markdown",
      "metadata": {
        "id": "7x4TfiNnZ8Rx"
      },
      "source": [
        "#### Question 3 : N'afficher que les lignes de df où les notes sont supérieures à 10 comme ci-dessous:"
      ]
    },
    {
      "execution_count": null,
      "cell_type": "code",
      "metadata": {
        "colab": {
          "base_uri": "https://localhost:8080/",
          "height": 112
        },
        "id": "bR3q-IfgZ8Ry",
        "outputId": "0f3be6e4-bde9-4cae-d56e-98c3c3ed82cd"
      },
      "source": [
        "#le 'loc' dans pandas permet de sélectionner les lignes et les colonnes spécifiques d'un dataframe.\n",
        "df.loc[(df['Note_mathematiques'] > 10) & (df['Note_francais'] > 10)]"
      ],
      "outputs": [
        {
          "output_type": "execute_result",
          "data": {
            "text/plain": [
              "  Id_eleve Classe  Note_mathematiques  Note_francais\n",
              "0      id1     6A                  14             16\n",
              "3      id4     6B                  18             11"
            ],
            "text/html": [
              "\n",
              "  <div id=\"df-53e94515-f77b-4d36-8549-1d16d7c2aaae\">\n",
              "    <div class=\"colab-df-container\">\n",
              "      <div>\n",
              "<style scoped>\n",
              "    .dataframe tbody tr th:only-of-type {\n",
              "        vertical-align: middle;\n",
              "    }\n",
              "\n",
              "    .dataframe tbody tr th {\n",
              "        vertical-align: top;\n",
              "    }\n",
              "\n",
              "    .dataframe thead th {\n",
              "        text-align: right;\n",
              "    }\n",
              "</style>\n",
              "<table border=\"1\" class=\"dataframe\">\n",
              "  <thead>\n",
              "    <tr style=\"text-align: right;\">\n",
              "      <th></th>\n",
              "      <th>Id_eleve</th>\n",
              "      <th>Classe</th>\n",
              "      <th>Note_mathematiques</th>\n",
              "      <th>Note_francais</th>\n",
              "    </tr>\n",
              "  </thead>\n",
              "  <tbody>\n",
              "    <tr>\n",
              "      <th>0</th>\n",
              "      <td>id1</td>\n",
              "      <td>6A</td>\n",
              "      <td>14</td>\n",
              "      <td>16</td>\n",
              "    </tr>\n",
              "    <tr>\n",
              "      <th>3</th>\n",
              "      <td>id4</td>\n",
              "      <td>6B</td>\n",
              "      <td>18</td>\n",
              "      <td>11</td>\n",
              "    </tr>\n",
              "  </tbody>\n",
              "</table>\n",
              "</div>\n",
              "      <button class=\"colab-df-convert\" onclick=\"convertToInteractive('df-53e94515-f77b-4d36-8549-1d16d7c2aaae')\"\n",
              "              title=\"Convert this dataframe to an interactive table.\"\n",
              "              style=\"display:none;\">\n",
              "        \n",
              "  <svg xmlns=\"http://www.w3.org/2000/svg\" height=\"24px\"viewBox=\"0 0 24 24\"\n",
              "       width=\"24px\">\n",
              "    <path d=\"M0 0h24v24H0V0z\" fill=\"none\"/>\n",
              "    <path d=\"M18.56 5.44l.94 2.06.94-2.06 2.06-.94-2.06-.94-.94-2.06-.94 2.06-2.06.94zm-11 1L8.5 8.5l.94-2.06 2.06-.94-2.06-.94L8.5 2.5l-.94 2.06-2.06.94zm10 10l.94 2.06.94-2.06 2.06-.94-2.06-.94-.94-2.06-.94 2.06-2.06.94z\"/><path d=\"M17.41 7.96l-1.37-1.37c-.4-.4-.92-.59-1.43-.59-.52 0-1.04.2-1.43.59L10.3 9.45l-7.72 7.72c-.78.78-.78 2.05 0 2.83L4 21.41c.39.39.9.59 1.41.59.51 0 1.02-.2 1.41-.59l7.78-7.78 2.81-2.81c.8-.78.8-2.07 0-2.86zM5.41 20L4 18.59l7.72-7.72 1.47 1.35L5.41 20z\"/>\n",
              "  </svg>\n",
              "      </button>\n",
              "      \n",
              "  <style>\n",
              "    .colab-df-container {\n",
              "      display:flex;\n",
              "      flex-wrap:wrap;\n",
              "      gap: 12px;\n",
              "    }\n",
              "\n",
              "    .colab-df-convert {\n",
              "      background-color: #E8F0FE;\n",
              "      border: none;\n",
              "      border-radius: 50%;\n",
              "      cursor: pointer;\n",
              "      display: none;\n",
              "      fill: #1967D2;\n",
              "      height: 32px;\n",
              "      padding: 0 0 0 0;\n",
              "      width: 32px;\n",
              "    }\n",
              "\n",
              "    .colab-df-convert:hover {\n",
              "      background-color: #E2EBFA;\n",
              "      box-shadow: 0px 1px 2px rgba(60, 64, 67, 0.3), 0px 1px 3px 1px rgba(60, 64, 67, 0.15);\n",
              "      fill: #174EA6;\n",
              "    }\n",
              "\n",
              "    [theme=dark] .colab-df-convert {\n",
              "      background-color: #3B4455;\n",
              "      fill: #D2E3FC;\n",
              "    }\n",
              "\n",
              "    [theme=dark] .colab-df-convert:hover {\n",
              "      background-color: #434B5C;\n",
              "      box-shadow: 0px 1px 3px 1px rgba(0, 0, 0, 0.15);\n",
              "      filter: drop-shadow(0px 1px 2px rgba(0, 0, 0, 0.3));\n",
              "      fill: #FFFFFF;\n",
              "    }\n",
              "  </style>\n",
              "\n",
              "      <script>\n",
              "        const buttonEl =\n",
              "          document.querySelector('#df-53e94515-f77b-4d36-8549-1d16d7c2aaae button.colab-df-convert');\n",
              "        buttonEl.style.display =\n",
              "          google.colab.kernel.accessAllowed ? 'block' : 'none';\n",
              "\n",
              "        async function convertToInteractive(key) {\n",
              "          const element = document.querySelector('#df-53e94515-f77b-4d36-8549-1d16d7c2aaae');\n",
              "          const dataTable =\n",
              "            await google.colab.kernel.invokeFunction('convertToInteractive',\n",
              "                                                     [key], {});\n",
              "          if (!dataTable) return;\n",
              "\n",
              "          const docLinkHtml = 'Like what you see? Visit the ' +\n",
              "            '<a target=\"_blank\" href=https://colab.research.google.com/notebooks/data_table.ipynb>data table notebook</a>'\n",
              "            + ' to learn more about interactive tables.';\n",
              "          element.innerHTML = '';\n",
              "          dataTable['output_type'] = 'display_data';\n",
              "          await google.colab.output.renderOutput(dataTable, element);\n",
              "          const docLink = document.createElement('div');\n",
              "          docLink.innerHTML = docLinkHtml;\n",
              "          element.appendChild(docLink);\n",
              "        }\n",
              "      </script>\n",
              "    </div>\n",
              "  </div>\n",
              "  "
            ]
          },
          "metadata": {},
          "execution_count": 8
        }
      ]
    },
    {
      "execution_count": null,
      "cell_type": "code",
      "metadata": {
        "id": "H7wyQsiZZ8Ry",
        "outputId": "458c45e9-875d-49b8-8b9b-c0042805571c"
      },
      "source": [
        "###"
      ],
      "outputs": [
        {
          "output_type": "execute_result",
          "metadata": {},
          "data": {
            "text/html": "\n            <button style=\"display:none\" \n            class=\"btn btn-default ipython-export-btn\" \n            id=\"btn-df-8398e39c-f174-47b6-9945-9714b667497d\" \n            onclick=\"_export_df('8398e39c-f174-47b6-9945-9714b667497d')\">\n                Export dataframe\n            </button>\n            \n            <script>\n                \n                function _check_export_df_possible(dfid,yes_fn,no_fn) {\n                    console.log('Checking dataframe exportability...')\n                    if(!IPython || !IPython.notebook || !IPython.notebook.kernel || !IPython.notebook.kernel) {\n                        console.log('Export is not possible (IPython kernel is not available)')\n                        if(no_fn) {\n                            no_fn();\n                        }\n                    } else {\n                        var pythonCode = 'from dataiku.notebook.export import IPythonExporter;IPythonExporter._check_export_stdout(\"'+dfid+'\")';\n                        IPython.notebook.kernel.execute(pythonCode,{iopub: {output: function(resp) {\n                            console.info(\"Exportability response\", resp);\n                            var size = /^([0-9]+)x([0-9]+)$/.exec(resp.content.data || resp.content.text)\n                            if(!size) {\n                                console.log('Export is not possible (dataframe is not in-memory anymore)')\n                                if(no_fn) {\n                                    no_fn();\n                                }\n                            } else {\n                                console.log('Export is possible')\n                                if(yes_fn) {\n                                    yes_fn(1*size[1],1*size[2]);\n                                }\n                            }\n                        }}});\n                    }\n                }\n            \n                function _export_df(dfid) {\n                    \n                    var btn = $('#btn-df-'+dfid);\n                    var btns = $('.ipython-export-btn');\n                    \n                    _check_export_df_possible(dfid,function() {\n                        \n                        window.parent.openExportModalFromIPython('Pandas dataframe',function(data) {\n                            btns.prop('disabled',true);\n                            btn.text('Exporting...');\n                            var command = 'from dataiku.notebook.export import IPythonExporter;IPythonExporter._run_export(\"'+dfid+'\",\"'+data.exportId+'\")';\n                            var callback = {iopub:{output: function(resp) {\n                                console.info(\"CB resp:\", resp);\n                                _check_export_df_possible(dfid,function(rows, cols) {\n                                    $('#btn-df-'+dfid)\n                                        .css('display','inline-block')\n                                        .text('Export this dataframe ('+rows+' rows, '+cols+' cols)')\n                                        .prop('disabled',false);\n                                },function() {\n                                    $('#btn-df-'+dfid).css('display','none');\n                                });\n                            }}};\n                            IPython.notebook.kernel.execute(command,callback,{silent:false}); // yes, silent now defaults to true. figures.\n                        });\n                    \n                    }, function(){\n                            alert('Unable to export : the Dataframe object is not loaded in memory');\n                            btn.css('display','none');\n                    });\n                    \n                }\n                \n                (function(dfid) {\n                \n                    var retryCount = 10;\n                \n                    function is_valid_websock(s) {\n                        return s && s.readyState==1;\n                    }\n                \n                    function check_conn() {\n                        \n                        if(!IPython || !IPython.notebook) {\n                            // Don't even try to go further\n                            return;\n                        }\n                        \n                        // Check if IPython is ready\n                        console.info(\"Checking conn ...\")\n                        if(IPython.notebook.kernel\n                        && IPython.notebook.kernel\n                        && is_valid_websock(IPython.notebook.kernel.ws)\n                        ) {\n                            \n                            _check_export_df_possible(dfid,function(rows, cols) {\n                                $('#btn-df-'+dfid).css('display','inline-block');\n                                $('#btn-df-'+dfid).text('Export this dataframe ('+rows+' rows, '+cols+' cols)');\n                            });\n                            \n                        } else {\n                            console.info(\"Conditions are not ok\", IPython.notebook.kernel);\n                            \n                            // Retry later\n                            \n                            if(retryCount>0) {\n                                setTimeout(check_conn,500);\n                                retryCount--;\n                            }\n                            \n                        }\n                    };\n                    \n                    setTimeout(check_conn,100);\n                    \n                })(\"8398e39c-f174-47b6-9945-9714b667497d\");\n                \n            </script>\n            \n        <div>\n<style scoped>\n    .dataframe tbody tr th:only-of-type {\n        vertical-align: middle;\n    }\n\n    .dataframe tbody tr th {\n        vertical-align: top;\n    }\n\n    .dataframe thead th {\n        text-align: right;\n    }\n</style>\n<table border=\"1\" class=\"dataframe\">\n  <thead>\n    <tr style=\"text-align: right;\">\n      <th></th>\n      <th>Classe</th>\n      <th>Id_eleve</th>\n      <th>Note_mathematiques</th>\n      <th>Note_francais</th>\n    </tr>\n  </thead>\n  <tbody>\n    <tr>\n      <th>0</th>\n      <td>6A</td>\n      <td>id1</td>\n      <td>14</td>\n      <td>16</td>\n    </tr>\n    <tr>\n      <th>3</th>\n      <td>6B</td>\n      <td>id4</td>\n      <td>18</td>\n      <td>11</td>\n    </tr>\n  </tbody>\n</table>\n</div>",
            "text/plain": "  Classe Id_eleve  Note_mathematiques  Note_francais\n0     6A      id1                  14             16\n3     6B      id4                  18             11"
          },
          "execution_count": 19
        }
      ]
    },
    {
      "cell_type": "markdown",
      "metadata": {
        "id": "s6mjhmMaZ8R0"
      },
      "source": [
        "#### Question 4 : Ajouter une colonne \"Note_maths_inf_10\" qui affiche 1 si la Note_mathematiques est inférieure à 10, 0 sinon (comme ci-dessous) : "
      ]
    },
    {
      "execution_count": null,
      "cell_type": "code",
      "metadata": {
        "colab": {
          "base_uri": "https://localhost:8080/"
        },
        "id": "cFHfg0p5Z8R1",
        "outputId": "632145be-bf02-4da8-aaa5-428020390cd9"
      },
      "source": [
        "#Pour ajouter une colonne avec une condition(if,else statement), je crée au préalable un array avec la condition requise et par la suite je renomme mon dataframe avec le nom requis.\n",
        "Note_maths_inf_10 = []\n",
        "for row in df['Note_mathematiques']:\n",
        "  if row < 10: Note_maths_inf_10.append(1)\n",
        "  else: Note_maths_inf_10.append(0)\n",
        "\n",
        "df['Note_maths_inf_10'] = Note_maths_inf_10\n",
        "print(df)"
      ],
      "outputs": [
        {
          "output_type": "stream",
          "name": "stdout",
          "text": [
            "  Id_eleve Classe  Note_mathematiques  Note_francais  Note_maths_inf_10\n",
            "0      id1     6A                  14             16                  0\n",
            "1      id2     6A                  12              8                  0\n",
            "2      id3     6B                   7             12                  1\n",
            "3      id4     6B                  18             11                  0\n"
          ]
        }
      ]
    },
    {
      "execution_count": null,
      "cell_type": "code",
      "metadata": {
        "id": "mBVgY65kZ8R2",
        "outputId": "78501e13-b934-4897-a1aa-1b89c4224bd1"
      },
      "source": [
        "###"
      ],
      "outputs": [
        {
          "output_type": "execute_result",
          "metadata": {},
          "data": {
            "text/html": "\n            <button style=\"display:none\" \n            class=\"btn btn-default ipython-export-btn\" \n            id=\"btn-df-fca27d2c-022d-4274-989d-636325f2e0e3\" \n            onclick=\"_export_df('fca27d2c-022d-4274-989d-636325f2e0e3')\">\n                Export dataframe\n            </button>\n            \n            <script>\n                \n                function _check_export_df_possible(dfid,yes_fn,no_fn) {\n                    console.log('Checking dataframe exportability...')\n                    if(!IPython || !IPython.notebook || !IPython.notebook.kernel || !IPython.notebook.kernel) {\n                        console.log('Export is not possible (IPython kernel is not available)')\n                        if(no_fn) {\n                            no_fn();\n                        }\n                    } else {\n                        var pythonCode = 'from dataiku.notebook.export import IPythonExporter;IPythonExporter._check_export_stdout(\"'+dfid+'\")';\n                        IPython.notebook.kernel.execute(pythonCode,{iopub: {output: function(resp) {\n                            console.info(\"Exportability response\", resp);\n                            var size = /^([0-9]+)x([0-9]+)$/.exec(resp.content.data || resp.content.text)\n                            if(!size) {\n                                console.log('Export is not possible (dataframe is not in-memory anymore)')\n                                if(no_fn) {\n                                    no_fn();\n                                }\n                            } else {\n                                console.log('Export is possible')\n                                if(yes_fn) {\n                                    yes_fn(1*size[1],1*size[2]);\n                                }\n                            }\n                        }}});\n                    }\n                }\n            \n                function _export_df(dfid) {\n                    \n                    var btn = $('#btn-df-'+dfid);\n                    var btns = $('.ipython-export-btn');\n                    \n                    _check_export_df_possible(dfid,function() {\n                        \n                        window.parent.openExportModalFromIPython('Pandas dataframe',function(data) {\n                            btns.prop('disabled',true);\n                            btn.text('Exporting...');\n                            var command = 'from dataiku.notebook.export import IPythonExporter;IPythonExporter._run_export(\"'+dfid+'\",\"'+data.exportId+'\")';\n                            var callback = {iopub:{output: function(resp) {\n                                console.info(\"CB resp:\", resp);\n                                _check_export_df_possible(dfid,function(rows, cols) {\n                                    $('#btn-df-'+dfid)\n                                        .css('display','inline-block')\n                                        .text('Export this dataframe ('+rows+' rows, '+cols+' cols)')\n                                        .prop('disabled',false);\n                                },function() {\n                                    $('#btn-df-'+dfid).css('display','none');\n                                });\n                            }}};\n                            IPython.notebook.kernel.execute(command,callback,{silent:false}); // yes, silent now defaults to true. figures.\n                        });\n                    \n                    }, function(){\n                            alert('Unable to export : the Dataframe object is not loaded in memory');\n                            btn.css('display','none');\n                    });\n                    \n                }\n                \n                (function(dfid) {\n                \n                    var retryCount = 10;\n                \n                    function is_valid_websock(s) {\n                        return s && s.readyState==1;\n                    }\n                \n                    function check_conn() {\n                        \n                        if(!IPython || !IPython.notebook) {\n                            // Don't even try to go further\n                            return;\n                        }\n                        \n                        // Check if IPython is ready\n                        console.info(\"Checking conn ...\")\n                        if(IPython.notebook.kernel\n                        && IPython.notebook.kernel\n                        && is_valid_websock(IPython.notebook.kernel.ws)\n                        ) {\n                            \n                            _check_export_df_possible(dfid,function(rows, cols) {\n                                $('#btn-df-'+dfid).css('display','inline-block');\n                                $('#btn-df-'+dfid).text('Export this dataframe ('+rows+' rows, '+cols+' cols)');\n                            });\n                            \n                        } else {\n                            console.info(\"Conditions are not ok\", IPython.notebook.kernel);\n                            \n                            // Retry later\n                            \n                            if(retryCount>0) {\n                                setTimeout(check_conn,500);\n                                retryCount--;\n                            }\n                            \n                        }\n                    };\n                    \n                    setTimeout(check_conn,100);\n                    \n                })(\"fca27d2c-022d-4274-989d-636325f2e0e3\");\n                \n            </script>\n            \n        <div>\n<style scoped>\n    .dataframe tbody tr th:only-of-type {\n        vertical-align: middle;\n    }\n\n    .dataframe tbody tr th {\n        vertical-align: top;\n    }\n\n    .dataframe thead th {\n        text-align: right;\n    }\n</style>\n<table border=\"1\" class=\"dataframe\">\n  <thead>\n    <tr style=\"text-align: right;\">\n      <th></th>\n      <th>Classe</th>\n      <th>Id_eleve</th>\n      <th>Note_mathematiques</th>\n      <th>Note_francais</th>\n      <th>Note_maths_inf_10</th>\n    </tr>\n  </thead>\n  <tbody>\n    <tr>\n      <th>0</th>\n      <td>6A</td>\n      <td>id1</td>\n      <td>14</td>\n      <td>16</td>\n      <td>0</td>\n    </tr>\n    <tr>\n      <th>1</th>\n      <td>6A</td>\n      <td>id2</td>\n      <td>12</td>\n      <td>8</td>\n      <td>0</td>\n    </tr>\n    <tr>\n      <th>2</th>\n      <td>6B</td>\n      <td>id3</td>\n      <td>7</td>\n      <td>12</td>\n      <td>1</td>\n    </tr>\n    <tr>\n      <th>3</th>\n      <td>6B</td>\n      <td>id4</td>\n      <td>18</td>\n      <td>11</td>\n      <td>0</td>\n    </tr>\n  </tbody>\n</table>\n</div>",
            "text/plain": "  Classe Id_eleve  Note_mathematiques  Note_francais  Note_maths_inf_10\n0     6A      id1                  14             16                  0\n1     6A      id2                  12              8                  0\n2     6B      id3                   7             12                  1\n3     6B      id4                  18             11                  0"
          },
          "execution_count": 22
        }
      ]
    },
    {
      "cell_type": "markdown",
      "metadata": {
        "id": "8w9VWDRdZ8R3"
      },
      "source": [
        "#### Question 5 : Construire le dataframe qui renvoie la moyenne des notes en mathématiques et en français par classe comme ci-dessous :"
      ]
    },
    {
      "execution_count": null,
      "cell_type": "code",
      "metadata": {
        "colab": {
          "base_uri": "https://localhost:8080/",
          "height": 143
        },
        "id": "Tt6DvxWnZ8R4",
        "outputId": "12b4dcc5-552a-4d7d-eb9d-2a0e7e2cd760"
      },
      "source": [
        "#J'utilise la fonction 'groupby' pour regrouper la moyenne des deux notre par classe.\n",
        "df.groupby(['Classe'])[['Note_mathematiques', 'Note_francais']].mean()"
      ],
      "outputs": [
        {
          "output_type": "execute_result",
          "data": {
            "text/plain": [
              "        Note_mathematiques  Note_francais\n",
              "Classe                                   \n",
              "6A                    13.0           12.0\n",
              "6B                    12.5           11.5"
            ],
            "text/html": [
              "\n",
              "  <div id=\"df-c28ac49d-f2de-4810-9715-0859a9a8720e\">\n",
              "    <div class=\"colab-df-container\">\n",
              "      <div>\n",
              "<style scoped>\n",
              "    .dataframe tbody tr th:only-of-type {\n",
              "        vertical-align: middle;\n",
              "    }\n",
              "\n",
              "    .dataframe tbody tr th {\n",
              "        vertical-align: top;\n",
              "    }\n",
              "\n",
              "    .dataframe thead th {\n",
              "        text-align: right;\n",
              "    }\n",
              "</style>\n",
              "<table border=\"1\" class=\"dataframe\">\n",
              "  <thead>\n",
              "    <tr style=\"text-align: right;\">\n",
              "      <th></th>\n",
              "      <th>Note_mathematiques</th>\n",
              "      <th>Note_francais</th>\n",
              "    </tr>\n",
              "    <tr>\n",
              "      <th>Classe</th>\n",
              "      <th></th>\n",
              "      <th></th>\n",
              "    </tr>\n",
              "  </thead>\n",
              "  <tbody>\n",
              "    <tr>\n",
              "      <th>6A</th>\n",
              "      <td>13.0</td>\n",
              "      <td>12.0</td>\n",
              "    </tr>\n",
              "    <tr>\n",
              "      <th>6B</th>\n",
              "      <td>12.5</td>\n",
              "      <td>11.5</td>\n",
              "    </tr>\n",
              "  </tbody>\n",
              "</table>\n",
              "</div>\n",
              "      <button class=\"colab-df-convert\" onclick=\"convertToInteractive('df-c28ac49d-f2de-4810-9715-0859a9a8720e')\"\n",
              "              title=\"Convert this dataframe to an interactive table.\"\n",
              "              style=\"display:none;\">\n",
              "        \n",
              "  <svg xmlns=\"http://www.w3.org/2000/svg\" height=\"24px\"viewBox=\"0 0 24 24\"\n",
              "       width=\"24px\">\n",
              "    <path d=\"M0 0h24v24H0V0z\" fill=\"none\"/>\n",
              "    <path d=\"M18.56 5.44l.94 2.06.94-2.06 2.06-.94-2.06-.94-.94-2.06-.94 2.06-2.06.94zm-11 1L8.5 8.5l.94-2.06 2.06-.94-2.06-.94L8.5 2.5l-.94 2.06-2.06.94zm10 10l.94 2.06.94-2.06 2.06-.94-2.06-.94-.94-2.06-.94 2.06-2.06.94z\"/><path d=\"M17.41 7.96l-1.37-1.37c-.4-.4-.92-.59-1.43-.59-.52 0-1.04.2-1.43.59L10.3 9.45l-7.72 7.72c-.78.78-.78 2.05 0 2.83L4 21.41c.39.39.9.59 1.41.59.51 0 1.02-.2 1.41-.59l7.78-7.78 2.81-2.81c.8-.78.8-2.07 0-2.86zM5.41 20L4 18.59l7.72-7.72 1.47 1.35L5.41 20z\"/>\n",
              "  </svg>\n",
              "      </button>\n",
              "      \n",
              "  <style>\n",
              "    .colab-df-container {\n",
              "      display:flex;\n",
              "      flex-wrap:wrap;\n",
              "      gap: 12px;\n",
              "    }\n",
              "\n",
              "    .colab-df-convert {\n",
              "      background-color: #E8F0FE;\n",
              "      border: none;\n",
              "      border-radius: 50%;\n",
              "      cursor: pointer;\n",
              "      display: none;\n",
              "      fill: #1967D2;\n",
              "      height: 32px;\n",
              "      padding: 0 0 0 0;\n",
              "      width: 32px;\n",
              "    }\n",
              "\n",
              "    .colab-df-convert:hover {\n",
              "      background-color: #E2EBFA;\n",
              "      box-shadow: 0px 1px 2px rgba(60, 64, 67, 0.3), 0px 1px 3px 1px rgba(60, 64, 67, 0.15);\n",
              "      fill: #174EA6;\n",
              "    }\n",
              "\n",
              "    [theme=dark] .colab-df-convert {\n",
              "      background-color: #3B4455;\n",
              "      fill: #D2E3FC;\n",
              "    }\n",
              "\n",
              "    [theme=dark] .colab-df-convert:hover {\n",
              "      background-color: #434B5C;\n",
              "      box-shadow: 0px 1px 3px 1px rgba(0, 0, 0, 0.15);\n",
              "      filter: drop-shadow(0px 1px 2px rgba(0, 0, 0, 0.3));\n",
              "      fill: #FFFFFF;\n",
              "    }\n",
              "  </style>\n",
              "\n",
              "      <script>\n",
              "        const buttonEl =\n",
              "          document.querySelector('#df-c28ac49d-f2de-4810-9715-0859a9a8720e button.colab-df-convert');\n",
              "        buttonEl.style.display =\n",
              "          google.colab.kernel.accessAllowed ? 'block' : 'none';\n",
              "\n",
              "        async function convertToInteractive(key) {\n",
              "          const element = document.querySelector('#df-c28ac49d-f2de-4810-9715-0859a9a8720e');\n",
              "          const dataTable =\n",
              "            await google.colab.kernel.invokeFunction('convertToInteractive',\n",
              "                                                     [key], {});\n",
              "          if (!dataTable) return;\n",
              "\n",
              "          const docLinkHtml = 'Like what you see? Visit the ' +\n",
              "            '<a target=\"_blank\" href=https://colab.research.google.com/notebooks/data_table.ipynb>data table notebook</a>'\n",
              "            + ' to learn more about interactive tables.';\n",
              "          element.innerHTML = '';\n",
              "          dataTable['output_type'] = 'display_data';\n",
              "          await google.colab.output.renderOutput(dataTable, element);\n",
              "          const docLink = document.createElement('div');\n",
              "          docLink.innerHTML = docLinkHtml;\n",
              "          element.appendChild(docLink);\n",
              "        }\n",
              "      </script>\n",
              "    </div>\n",
              "  </div>\n",
              "  "
            ]
          },
          "metadata": {},
          "execution_count": 10
        }
      ]
    },
    {
      "execution_count": null,
      "cell_type": "code",
      "metadata": {
        "id": "iz6dglBeZ8R5",
        "outputId": "b05ad683-0c96-4d84-d646-ed3caa1c6556"
      },
      "source": [
        "###"
      ],
      "outputs": [
        {
          "output_type": "execute_result",
          "metadata": {},
          "data": {
            "text/html": "\n            <button style=\"display:none\" \n            class=\"btn btn-default ipython-export-btn\" \n            id=\"btn-df-e99fc419-6c0f-4b71-9ba4-34361fe86070\" \n            onclick=\"_export_df('e99fc419-6c0f-4b71-9ba4-34361fe86070')\">\n                Export dataframe\n            </button>\n            \n            <script>\n                \n                function _check_export_df_possible(dfid,yes_fn,no_fn) {\n                    console.log('Checking dataframe exportability...')\n                    if(!IPython || !IPython.notebook || !IPython.notebook.kernel || !IPython.notebook.kernel) {\n                        console.log('Export is not possible (IPython kernel is not available)')\n                        if(no_fn) {\n                            no_fn();\n                        }\n                    } else {\n                        var pythonCode = 'from dataiku.notebook.export import IPythonExporter;IPythonExporter._check_export_stdout(\"'+dfid+'\")';\n                        IPython.notebook.kernel.execute(pythonCode,{iopub: {output: function(resp) {\n                            console.info(\"Exportability response\", resp);\n                            var size = /^([0-9]+)x([0-9]+)$/.exec(resp.content.data || resp.content.text)\n                            if(!size) {\n                                console.log('Export is not possible (dataframe is not in-memory anymore)')\n                                if(no_fn) {\n                                    no_fn();\n                                }\n                            } else {\n                                console.log('Export is possible')\n                                if(yes_fn) {\n                                    yes_fn(1*size[1],1*size[2]);\n                                }\n                            }\n                        }}});\n                    }\n                }\n            \n                function _export_df(dfid) {\n                    \n                    var btn = $('#btn-df-'+dfid);\n                    var btns = $('.ipython-export-btn');\n                    \n                    _check_export_df_possible(dfid,function() {\n                        \n                        window.parent.openExportModalFromIPython('Pandas dataframe',function(data) {\n                            btns.prop('disabled',true);\n                            btn.text('Exporting...');\n                            var command = 'from dataiku.notebook.export import IPythonExporter;IPythonExporter._run_export(\"'+dfid+'\",\"'+data.exportId+'\")';\n                            var callback = {iopub:{output: function(resp) {\n                                console.info(\"CB resp:\", resp);\n                                _check_export_df_possible(dfid,function(rows, cols) {\n                                    $('#btn-df-'+dfid)\n                                        .css('display','inline-block')\n                                        .text('Export this dataframe ('+rows+' rows, '+cols+' cols)')\n                                        .prop('disabled',false);\n                                },function() {\n                                    $('#btn-df-'+dfid).css('display','none');\n                                });\n                            }}};\n                            IPython.notebook.kernel.execute(command,callback,{silent:false}); // yes, silent now defaults to true. figures.\n                        });\n                    \n                    }, function(){\n                            alert('Unable to export : the Dataframe object is not loaded in memory');\n                            btn.css('display','none');\n                    });\n                    \n                }\n                \n                (function(dfid) {\n                \n                    var retryCount = 10;\n                \n                    function is_valid_websock(s) {\n                        return s && s.readyState==1;\n                    }\n                \n                    function check_conn() {\n                        \n                        if(!IPython || !IPython.notebook) {\n                            // Don't even try to go further\n                            return;\n                        }\n                        \n                        // Check if IPython is ready\n                        console.info(\"Checking conn ...\")\n                        if(IPython.notebook.kernel\n                        && IPython.notebook.kernel\n                        && is_valid_websock(IPython.notebook.kernel.ws)\n                        ) {\n                            \n                            _check_export_df_possible(dfid,function(rows, cols) {\n                                $('#btn-df-'+dfid).css('display','inline-block');\n                                $('#btn-df-'+dfid).text('Export this dataframe ('+rows+' rows, '+cols+' cols)');\n                            });\n                            \n                        } else {\n                            console.info(\"Conditions are not ok\", IPython.notebook.kernel);\n                            \n                            // Retry later\n                            \n                            if(retryCount>0) {\n                                setTimeout(check_conn,500);\n                                retryCount--;\n                            }\n                            \n                        }\n                    };\n                    \n                    setTimeout(check_conn,100);\n                    \n                })(\"e99fc419-6c0f-4b71-9ba4-34361fe86070\");\n                \n            </script>\n            \n        <div>\n<style scoped>\n    .dataframe tbody tr th:only-of-type {\n        vertical-align: middle;\n    }\n\n    .dataframe tbody tr th {\n        vertical-align: top;\n    }\n\n    .dataframe thead th {\n        text-align: right;\n    }\n</style>\n<table border=\"1\" class=\"dataframe\">\n  <thead>\n    <tr style=\"text-align: right;\">\n      <th></th>\n      <th>Classe</th>\n      <th>Note_mathematiques</th>\n      <th>Note_francais</th>\n    </tr>\n  </thead>\n  <tbody>\n    <tr>\n      <th>0</th>\n      <td>6A</td>\n      <td>13.0</td>\n      <td>12.0</td>\n    </tr>\n    <tr>\n      <th>1</th>\n      <td>6B</td>\n      <td>12.5</td>\n      <td>11.5</td>\n    </tr>\n  </tbody>\n</table>\n</div>",
            "text/plain": "  Classe  Note_mathematiques  Note_francais\n0     6A                13.0           12.0\n1     6B                12.5           11.5"
          },
          "execution_count": 13
        }
      ]
    },
    {
      "cell_type": "markdown",
      "metadata": {
        "id": "J56fH66KZ8R6"
      },
      "source": [
        "### AUTRES QUESTIONS : "
      ]
    },
    {
      "cell_type": "markdown",
      "metadata": {
        "id": "ZIsQsHK3Z8R7"
      },
      "source": [
        "#### Question 6 : "
      ]
    },
    {
      "cell_type": "markdown",
      "metadata": {
        "id": "ul6_5mhKZ8R8"
      },
      "source": [
        "Définir la fonction qui calcule la similarité de Jaccard de deux chaines de carcactères. \n",
        "On définit cette similarité comme le rapport entre le cardinal de l'intersection des ensembles de caractères des deux chaines et le cardinal de l'union des ensembles de caractères des deux chaines.\n",
        "\n",
        "\n",
        "\n",
        "$ J(A,B) = \\frac{|A \\cap B|}{|A \\cup B|} $"
      ]
    },
    {
      "cell_type": "markdown",
      "metadata": {
        "id": "pwdu4PxLZ8R9"
      },
      "source": [
        "jaccard('bonjour','au revoir')\n",
        "(0.2727272727272727, '3/11')\n",
        "\n",
        "jaccard('clément','marion')\n",
        "(0.16666666666666666, '2/12')\n",
        "\n",
        "jaccard('python est le meilleur language','rien de mieux que R pour coder')\n",
        "(0.42857142857142855, '9/21')"
      ]
    },
    {
      "execution_count": null,
      "cell_type": "code",
      "metadata": {
        "colab": {
          "base_uri": "https://localhost:8080/"
        },
        "id": "LdTnxNLsZ8R-",
        "outputId": "864d6cbd-186c-474c-d86b-2f192defba68"
      },
      "source": [
        "# Je commence par definir ma fonction.\n",
        "def jaccard(str1, str2):\n",
        "\n",
        "    # En premier temps, je vais convertir le tableau de caractères de la première chaîne de caractère.\n",
        "    set1 = set(str1)\n",
        "    # print(\"set1\", set1)\n",
        "\n",
        "    # convertion du tableau de caractères de la deuxième chaîne de caractère.\n",
        "    set2 = set(str2)   \n",
        "    # print(\"set2\", set2)\n",
        "\n",
        "    # calcule des unions des ensembles de caractères(set1, set2)\n",
        "    set_union = set1.union(set2)\n",
        "    set_union_card = len(set_union)\n",
        "\n",
        "    # print(\"set union\", set_union)\n",
        "\n",
        "    # calcule des intersections des caracteres(set1, set2)\n",
        "    set_intersect = set1.intersection(set2)\n",
        "    set_intersect_card = len(set_intersect)\n",
        "\n",
        "    # print(\"set intersect\", set_intersect)\n",
        "\n",
        "    return (float(set_intersect_card) / set_union_card, f\"{set_intersect_card}/{set_union_card}\")\n",
        "\n",
        "print(jaccard('bonjour','au revoir'))\n",
        "print(jaccard('clÃ©ment','marion'))\n",
        "print(jaccard('python est le meilleur language','rien de mieux que R pour coder'))"
      ],
      "outputs": [
        {
          "output_type": "stream",
          "name": "stdout",
          "text": [
            "(0.2727272727272727, '3/11')\n",
            "(0.16666666666666666, '2/12')\n",
            "(0.42857142857142855, '9/21')\n"
          ]
        }
      ]
    },
    {
      "cell_type": "markdown",
      "metadata": {
        "id": "i11fGZKQZ8R_"
      },
      "source": [
        "#### Question 7 : Appliquer cette fonction au texte ci-dessous de manière a obtenir le dataframe indiquant la distance de jaccard pour chaque paire de mots "
      ]
    },
    {
      "execution_count": null,
      "cell_type": "code",
      "metadata": {
        "id": "mmWX4v7dZ8SA"
      },
      "source": [
        "texte = \"Sephora au coeur de la beauté\""
      ],
      "outputs": []
    },
    {
      "execution_count": null,
      "cell_type": "code",
      "metadata": {
        "colab": {
          "base_uri": "https://localhost:8080/",
          "height": 520
        },
        "id": "dlnJqAG7Z8SB",
        "outputId": "df7472d3-4921-4615-c105-fa558d51c0d4"
      },
      "source": [
        "# Il faut commencer par diviser la chaîne de caractères.\n",
        "items = texte.split()\n",
        "# print(items)\n",
        "\n",
        "mot_1 = []\n",
        "mot_2 = []\n",
        "sim_list = []\n",
        "\n",
        "for i in range(len(items) - 1):\n",
        "    word1 = items[i]\n",
        "    for j in range(i + 1, len(items)):        \n",
        "        word2 = items[j]\n",
        "\n",
        "        sim = jaccard(word1, word2)\n",
        "\n",
        "        # print(word1, word2, sim)\n",
        "\n",
        "        mot_1.append(word1)\n",
        "        mot_2.append(word2)\n",
        "        sim_list.append(sim)\n",
        "\n",
        "#Après avoir obtenu la distance de jaccard, je crée un dataframe.\n",
        "data = {'mot_1': mot_1, 'mot_2': mot_2, 'jaccard': sim_list}\n",
        "# print(data)\n",
        "\n",
        "\n",
        "# Convertion du dictionnaire en dataframe\n",
        "df = pd.DataFrame.from_dict(data)\n",
        "df"
      ],
      "outputs": [
        {
          "output_type": "execute_result",
          "data": {
            "text/plain": [
              "      mot_1   mot_2                      jaccard\n",
              "0   Sephora      au                 (0.125, 1/8)\n",
              "1   Sephora   coeur    (0.3333333333333333, 3/9)\n",
              "2   Sephora      de                 (0.125, 1/8)\n",
              "3   Sephora      la                 (0.125, 1/8)\n",
              "4   Sephora  beauté  (0.18181818181818182, 2/11)\n",
              "5        au   coeur   (0.16666666666666666, 1/6)\n",
              "6        au      de                   (0.0, 0/4)\n",
              "7        au      la    (0.3333333333333333, 1/3)\n",
              "8        au  beauté    (0.3333333333333333, 2/6)\n",
              "9     coeur      de   (0.16666666666666666, 1/6)\n",
              "10    coeur      la                   (0.0, 0/7)\n",
              "11    coeur  beauté    (0.2222222222222222, 2/9)\n",
              "12       de      la                   (0.0, 0/4)\n",
              "13       de  beauté   (0.14285714285714285, 1/7)\n",
              "14       la  beauté   (0.14285714285714285, 1/7)"
            ],
            "text/html": [
              "\n",
              "  <div id=\"df-6c619ae6-ad78-4ca5-b660-26dd889d8ebc\">\n",
              "    <div class=\"colab-df-container\">\n",
              "      <div>\n",
              "<style scoped>\n",
              "    .dataframe tbody tr th:only-of-type {\n",
              "        vertical-align: middle;\n",
              "    }\n",
              "\n",
              "    .dataframe tbody tr th {\n",
              "        vertical-align: top;\n",
              "    }\n",
              "\n",
              "    .dataframe thead th {\n",
              "        text-align: right;\n",
              "    }\n",
              "</style>\n",
              "<table border=\"1\" class=\"dataframe\">\n",
              "  <thead>\n",
              "    <tr style=\"text-align: right;\">\n",
              "      <th></th>\n",
              "      <th>mot_1</th>\n",
              "      <th>mot_2</th>\n",
              "      <th>jaccard</th>\n",
              "    </tr>\n",
              "  </thead>\n",
              "  <tbody>\n",
              "    <tr>\n",
              "      <th>0</th>\n",
              "      <td>Sephora</td>\n",
              "      <td>au</td>\n",
              "      <td>(0.125, 1/8)</td>\n",
              "    </tr>\n",
              "    <tr>\n",
              "      <th>1</th>\n",
              "      <td>Sephora</td>\n",
              "      <td>coeur</td>\n",
              "      <td>(0.3333333333333333, 3/9)</td>\n",
              "    </tr>\n",
              "    <tr>\n",
              "      <th>2</th>\n",
              "      <td>Sephora</td>\n",
              "      <td>de</td>\n",
              "      <td>(0.125, 1/8)</td>\n",
              "    </tr>\n",
              "    <tr>\n",
              "      <th>3</th>\n",
              "      <td>Sephora</td>\n",
              "      <td>la</td>\n",
              "      <td>(0.125, 1/8)</td>\n",
              "    </tr>\n",
              "    <tr>\n",
              "      <th>4</th>\n",
              "      <td>Sephora</td>\n",
              "      <td>beauté</td>\n",
              "      <td>(0.18181818181818182, 2/11)</td>\n",
              "    </tr>\n",
              "    <tr>\n",
              "      <th>5</th>\n",
              "      <td>au</td>\n",
              "      <td>coeur</td>\n",
              "      <td>(0.16666666666666666, 1/6)</td>\n",
              "    </tr>\n",
              "    <tr>\n",
              "      <th>6</th>\n",
              "      <td>au</td>\n",
              "      <td>de</td>\n",
              "      <td>(0.0, 0/4)</td>\n",
              "    </tr>\n",
              "    <tr>\n",
              "      <th>7</th>\n",
              "      <td>au</td>\n",
              "      <td>la</td>\n",
              "      <td>(0.3333333333333333, 1/3)</td>\n",
              "    </tr>\n",
              "    <tr>\n",
              "      <th>8</th>\n",
              "      <td>au</td>\n",
              "      <td>beauté</td>\n",
              "      <td>(0.3333333333333333, 2/6)</td>\n",
              "    </tr>\n",
              "    <tr>\n",
              "      <th>9</th>\n",
              "      <td>coeur</td>\n",
              "      <td>de</td>\n",
              "      <td>(0.16666666666666666, 1/6)</td>\n",
              "    </tr>\n",
              "    <tr>\n",
              "      <th>10</th>\n",
              "      <td>coeur</td>\n",
              "      <td>la</td>\n",
              "      <td>(0.0, 0/7)</td>\n",
              "    </tr>\n",
              "    <tr>\n",
              "      <th>11</th>\n",
              "      <td>coeur</td>\n",
              "      <td>beauté</td>\n",
              "      <td>(0.2222222222222222, 2/9)</td>\n",
              "    </tr>\n",
              "    <tr>\n",
              "      <th>12</th>\n",
              "      <td>de</td>\n",
              "      <td>la</td>\n",
              "      <td>(0.0, 0/4)</td>\n",
              "    </tr>\n",
              "    <tr>\n",
              "      <th>13</th>\n",
              "      <td>de</td>\n",
              "      <td>beauté</td>\n",
              "      <td>(0.14285714285714285, 1/7)</td>\n",
              "    </tr>\n",
              "    <tr>\n",
              "      <th>14</th>\n",
              "      <td>la</td>\n",
              "      <td>beauté</td>\n",
              "      <td>(0.14285714285714285, 1/7)</td>\n",
              "    </tr>\n",
              "  </tbody>\n",
              "</table>\n",
              "</div>\n",
              "      <button class=\"colab-df-convert\" onclick=\"convertToInteractive('df-6c619ae6-ad78-4ca5-b660-26dd889d8ebc')\"\n",
              "              title=\"Convert this dataframe to an interactive table.\"\n",
              "              style=\"display:none;\">\n",
              "        \n",
              "  <svg xmlns=\"http://www.w3.org/2000/svg\" height=\"24px\"viewBox=\"0 0 24 24\"\n",
              "       width=\"24px\">\n",
              "    <path d=\"M0 0h24v24H0V0z\" fill=\"none\"/>\n",
              "    <path d=\"M18.56 5.44l.94 2.06.94-2.06 2.06-.94-2.06-.94-.94-2.06-.94 2.06-2.06.94zm-11 1L8.5 8.5l.94-2.06 2.06-.94-2.06-.94L8.5 2.5l-.94 2.06-2.06.94zm10 10l.94 2.06.94-2.06 2.06-.94-2.06-.94-.94-2.06-.94 2.06-2.06.94z\"/><path d=\"M17.41 7.96l-1.37-1.37c-.4-.4-.92-.59-1.43-.59-.52 0-1.04.2-1.43.59L10.3 9.45l-7.72 7.72c-.78.78-.78 2.05 0 2.83L4 21.41c.39.39.9.59 1.41.59.51 0 1.02-.2 1.41-.59l7.78-7.78 2.81-2.81c.8-.78.8-2.07 0-2.86zM5.41 20L4 18.59l7.72-7.72 1.47 1.35L5.41 20z\"/>\n",
              "  </svg>\n",
              "      </button>\n",
              "      \n",
              "  <style>\n",
              "    .colab-df-container {\n",
              "      display:flex;\n",
              "      flex-wrap:wrap;\n",
              "      gap: 12px;\n",
              "    }\n",
              "\n",
              "    .colab-df-convert {\n",
              "      background-color: #E8F0FE;\n",
              "      border: none;\n",
              "      border-radius: 50%;\n",
              "      cursor: pointer;\n",
              "      display: none;\n",
              "      fill: #1967D2;\n",
              "      height: 32px;\n",
              "      padding: 0 0 0 0;\n",
              "      width: 32px;\n",
              "    }\n",
              "\n",
              "    .colab-df-convert:hover {\n",
              "      background-color: #E2EBFA;\n",
              "      box-shadow: 0px 1px 2px rgba(60, 64, 67, 0.3), 0px 1px 3px 1px rgba(60, 64, 67, 0.15);\n",
              "      fill: #174EA6;\n",
              "    }\n",
              "\n",
              "    [theme=dark] .colab-df-convert {\n",
              "      background-color: #3B4455;\n",
              "      fill: #D2E3FC;\n",
              "    }\n",
              "\n",
              "    [theme=dark] .colab-df-convert:hover {\n",
              "      background-color: #434B5C;\n",
              "      box-shadow: 0px 1px 3px 1px rgba(0, 0, 0, 0.15);\n",
              "      filter: drop-shadow(0px 1px 2px rgba(0, 0, 0, 0.3));\n",
              "      fill: #FFFFFF;\n",
              "    }\n",
              "  </style>\n",
              "\n",
              "      <script>\n",
              "        const buttonEl =\n",
              "          document.querySelector('#df-6c619ae6-ad78-4ca5-b660-26dd889d8ebc button.colab-df-convert');\n",
              "        buttonEl.style.display =\n",
              "          google.colab.kernel.accessAllowed ? 'block' : 'none';\n",
              "\n",
              "        async function convertToInteractive(key) {\n",
              "          const element = document.querySelector('#df-6c619ae6-ad78-4ca5-b660-26dd889d8ebc');\n",
              "          const dataTable =\n",
              "            await google.colab.kernel.invokeFunction('convertToInteractive',\n",
              "                                                     [key], {});\n",
              "          if (!dataTable) return;\n",
              "\n",
              "          const docLinkHtml = 'Like what you see? Visit the ' +\n",
              "            '<a target=\"_blank\" href=https://colab.research.google.com/notebooks/data_table.ipynb>data table notebook</a>'\n",
              "            + ' to learn more about interactive tables.';\n",
              "          element.innerHTML = '';\n",
              "          dataTable['output_type'] = 'display_data';\n",
              "          await google.colab.output.renderOutput(dataTable, element);\n",
              "          const docLink = document.createElement('div');\n",
              "          docLink.innerHTML = docLinkHtml;\n",
              "          element.appendChild(docLink);\n",
              "        }\n",
              "      </script>\n",
              "    </div>\n",
              "  </div>\n",
              "  "
            ]
          },
          "metadata": {},
          "execution_count": 16
        }
      ]
    },
    {
      "cell_type": "markdown",
      "source": [
        "Un petit commentaire sur cette reponse. Sur l'index 4,8,11,13 et 14, je remarque une difference sur la similarité de Jaccard. J'ai refait mes comptes et tout me semble être Ok."
      ],
      "metadata": {
        "id": "3W4JUo-vc8Ye"
      }
    },
    {
      "execution_count": null,
      "cell_type": "code",
      "metadata": {
        "id": "nIXwMoEtZ8SC",
        "outputId": "c7e26ae5-ed47-400c-a3e3-5285ebdc1a26"
      },
      "source": [
        "###\n",
        " "
      ],
      "outputs": [
        {
          "output_type": "execute_result",
          "metadata": {},
          "data": {
            "text/html": "\n            <button style=\"display:none\" \n            class=\"btn btn-default ipython-export-btn\" \n            id=\"btn-df-1389ecd6-31b3-4d33-b584-c8e2f67c3360\" \n            onclick=\"_export_df('1389ecd6-31b3-4d33-b584-c8e2f67c3360')\">\n                Export dataframe\n            </button>\n            \n            <script>\n                \n                function _check_export_df_possible(dfid,yes_fn,no_fn) {\n                    console.log('Checking dataframe exportability...')\n                    if(!IPython || !IPython.notebook || !IPython.notebook.kernel || !IPython.notebook.kernel) {\n                        console.log('Export is not possible (IPython kernel is not available)')\n                        if(no_fn) {\n                            no_fn();\n                        }\n                    } else {\n                        var pythonCode = 'from dataiku.notebook.export import IPythonExporter;IPythonExporter._check_export_stdout(\"'+dfid+'\")';\n                        IPython.notebook.kernel.execute(pythonCode,{iopub: {output: function(resp) {\n                            console.info(\"Exportability response\", resp);\n                            var size = /^([0-9]+)x([0-9]+)$/.exec(resp.content.data || resp.content.text)\n                            if(!size) {\n                                console.log('Export is not possible (dataframe is not in-memory anymore)')\n                                if(no_fn) {\n                                    no_fn();\n                                }\n                            } else {\n                                console.log('Export is possible')\n                                if(yes_fn) {\n                                    yes_fn(1*size[1],1*size[2]);\n                                }\n                            }\n                        }}});\n                    }\n                }\n            \n                function _export_df(dfid) {\n                    \n                    var btn = $('#btn-df-'+dfid);\n                    var btns = $('.ipython-export-btn');\n                    \n                    _check_export_df_possible(dfid,function() {\n                        \n                        window.parent.openExportModalFromIPython('Pandas dataframe',function(data) {\n                            btns.prop('disabled',true);\n                            btn.text('Exporting...');\n                            var command = 'from dataiku.notebook.export import IPythonExporter;IPythonExporter._run_export(\"'+dfid+'\",\"'+data.exportId+'\")';\n                            var callback = {iopub:{output: function(resp) {\n                                console.info(\"CB resp:\", resp);\n                                _check_export_df_possible(dfid,function(rows, cols) {\n                                    $('#btn-df-'+dfid)\n                                        .css('display','inline-block')\n                                        .text('Export this dataframe ('+rows+' rows, '+cols+' cols)')\n                                        .prop('disabled',false);\n                                },function() {\n                                    $('#btn-df-'+dfid).css('display','none');\n                                });\n                            }}};\n                            IPython.notebook.kernel.execute(command,callback,{silent:false}); // yes, silent now defaults to true. figures.\n                        });\n                    \n                    }, function(){\n                            alert('Unable to export : the Dataframe object is not loaded in memory');\n                            btn.css('display','none');\n                    });\n                    \n                }\n                \n                (function(dfid) {\n                \n                    var retryCount = 10;\n                \n                    function is_valid_websock(s) {\n                        return s && s.readyState==1;\n                    }\n                \n                    function check_conn() {\n                        \n                        if(!IPython || !IPython.notebook) {\n                            // Don't even try to go further\n                            return;\n                        }\n                        \n                        // Check if IPython is ready\n                        console.info(\"Checking conn ...\")\n                        if(IPython.notebook.kernel\n                        && IPython.notebook.kernel\n                        && is_valid_websock(IPython.notebook.kernel.ws)\n                        ) {\n                            \n                            _check_export_df_possible(dfid,function(rows, cols) {\n                                $('#btn-df-'+dfid).css('display','inline-block');\n                                $('#btn-df-'+dfid).text('Export this dataframe ('+rows+' rows, '+cols+' cols)');\n                            });\n                            \n                        } else {\n                            console.info(\"Conditions are not ok\", IPython.notebook.kernel);\n                            \n                            // Retry later\n                            \n                            if(retryCount>0) {\n                                setTimeout(check_conn,500);\n                                retryCount--;\n                            }\n                            \n                        }\n                    };\n                    \n                    setTimeout(check_conn,100);\n                    \n                })(\"1389ecd6-31b3-4d33-b584-c8e2f67c3360\");\n                \n            </script>\n            \n        <div>\n<style scoped>\n    .dataframe tbody tr th:only-of-type {\n        vertical-align: middle;\n    }\n\n    .dataframe tbody tr th {\n        vertical-align: top;\n    }\n\n    .dataframe thead th {\n        text-align: right;\n    }\n</style>\n<table border=\"1\" class=\"dataframe\">\n  <thead>\n    <tr style=\"text-align: right;\">\n      <th></th>\n      <th>mot_1</th>\n      <th>mot_2</th>\n      <th>jaccard</th>\n    </tr>\n  </thead>\n  <tbody>\n    <tr>\n      <th>0</th>\n      <td>Sephora</td>\n      <td>au</td>\n      <td>(0.125, 1/8)</td>\n    </tr>\n    <tr>\n      <th>1</th>\n      <td>Sephora</td>\n      <td>coeur</td>\n      <td>(0.333333333333, 3/9)</td>\n    </tr>\n    <tr>\n      <th>2</th>\n      <td>Sephora</td>\n      <td>de</td>\n      <td>(0.125, 1/8)</td>\n    </tr>\n    <tr>\n      <th>3</th>\n      <td>Sephora</td>\n      <td>la</td>\n      <td>(0.125, 1/8)</td>\n    </tr>\n    <tr>\n      <th>4</th>\n      <td>Sephora</td>\n      <td>beauté</td>\n      <td>(0.166666666667, 2/12)</td>\n    </tr>\n    <tr>\n      <th>5</th>\n      <td>au</td>\n      <td>coeur</td>\n      <td>(0.166666666667, 1/6)</td>\n    </tr>\n    <tr>\n      <th>6</th>\n      <td>au</td>\n      <td>de</td>\n      <td>(0.0, 0/4)</td>\n    </tr>\n    <tr>\n      <th>7</th>\n      <td>au</td>\n      <td>la</td>\n      <td>(0.333333333333, 1/3)</td>\n    </tr>\n    <tr>\n      <th>8</th>\n      <td>au</td>\n      <td>beauté</td>\n      <td>(0.285714285714, 2/7)</td>\n    </tr>\n    <tr>\n      <th>9</th>\n      <td>coeur</td>\n      <td>de</td>\n      <td>(0.166666666667, 1/6)</td>\n    </tr>\n    <tr>\n      <th>10</th>\n      <td>coeur</td>\n      <td>la</td>\n      <td>(0.0, 0/7)</td>\n    </tr>\n    <tr>\n      <th>11</th>\n      <td>coeur</td>\n      <td>beauté</td>\n      <td>(0.2, 2/10)</td>\n    </tr>\n    <tr>\n      <th>12</th>\n      <td>de</td>\n      <td>la</td>\n      <td>(0.0, 0/4)</td>\n    </tr>\n    <tr>\n      <th>13</th>\n      <td>de</td>\n      <td>beauté</td>\n      <td>(0.125, 1/8)</td>\n    </tr>\n    <tr>\n      <th>14</th>\n      <td>la</td>\n      <td>beauté</td>\n      <td>(0.125, 1/8)</td>\n    </tr>\n  </tbody>\n</table>\n</div>",
            "text/plain": "      mot_1   mot_2                 jaccard\n0   Sephora      au            (0.125, 1/8)\n1   Sephora   coeur   (0.333333333333, 3/9)\n2   Sephora      de            (0.125, 1/8)\n3   Sephora      la            (0.125, 1/8)\n4   Sephora  beauté  (0.166666666667, 2/12)\n5        au   coeur   (0.166666666667, 1/6)\n6        au      de              (0.0, 0/4)\n7        au      la   (0.333333333333, 1/3)\n8        au  beauté   (0.285714285714, 2/7)\n9     coeur      de   (0.166666666667, 1/6)\n10    coeur      la              (0.0, 0/7)\n11    coeur  beauté             (0.2, 2/10)\n12       de      la              (0.0, 0/4)\n13       de  beauté            (0.125, 1/8)\n14       la  beauté            (0.125, 1/8)"
          },
          "execution_count": 51
        }
      ]
    }
  ]
}